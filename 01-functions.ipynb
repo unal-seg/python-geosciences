{
 "cells": [
  {
   "cell_type": "markdown",
   "source": [
    "### Funciones en python\r\n",
    "\r\n",
    "\r\n",
    "Son una manera de no repetir código y reusarlo en forma de \"bloques\". Son muy útiles para empaquetar código que nos sirve y reutilizarlo varias veces\r\n",
    "\r\n",
    "\r\n",
    " "
   ],
   "metadata": {}
  },
  {
   "cell_type": "markdown",
   "source": [
    "#### Estructura básica de una función en python"
   ],
   "metadata": {}
  },
  {
   "cell_type": "code",
   "execution_count": 8,
   "source": [
    "def di_seg(): # definir la funcion di_seg\r\n",
    "    print(\"seg\") # que la funcion imprima seg en consola"
   ],
   "outputs": [],
   "metadata": {}
  },
  {
   "cell_type": "markdown",
   "source": [
    "#### Llamar la función 1 y varias veces\r\n"
   ],
   "metadata": {}
  },
  {
   "cell_type": "code",
   "execution_count": 9,
   "source": [
    "di_seg() # llamar la función una vez"
   ],
   "outputs": [
    {
     "output_type": "stream",
     "name": "stdout",
     "text": [
      "seg\n"
     ]
    }
   ],
   "metadata": {}
  },
  {
   "cell_type": "code",
   "execution_count": 11,
   "source": [
    "for i in range(5): # llamar la función 5 veces\r\n",
    "    di_seg()\r\n"
   ],
   "outputs": [
    {
     "output_type": "stream",
     "name": "stdout",
     "text": [
      "seg\n",
      "seg\n",
      "seg\n",
      "seg\n",
      "seg\n"
     ]
    }
   ],
   "metadata": {}
  },
  {
   "cell_type": "markdown",
   "source": [
    "#### Usando parámetros dentro de una función "
   ],
   "metadata": {}
  },
  {
   "cell_type": "code",
   "execution_count": 13,
   "source": [
    "def di_seg_n_veces(n): # di seg n veces\r\n",
    "    for i in range(n):\r\n",
    "        di_seg() # llamamos la función di_seg desde esta función"
   ],
   "outputs": [],
   "metadata": {}
  },
  {
   "cell_type": "code",
   "execution_count": 14,
   "source": [
    "di_seg_n_veces(3) # decir seg 3 veces "
   ],
   "outputs": [
    {
     "output_type": "stream",
     "name": "stdout",
     "text": [
      "seg\n",
      "seg\n",
      "seg\n"
     ]
    }
   ],
   "metadata": {}
  },
  {
   "cell_type": "markdown",
   "source": [
    "#### Uso de una función para calcular la porosidad\r\n",
    "\r\n",
    "Vamos a realizar una función que calculará la porosidad, una medida entre el volumen de poros de un medio y su volumen total\r\n",
    "\r\n",
    "\r\n",
    "$$\\phi=\\frac{{V_V}}{{V_T}}$$\r\n",
    "$\\phi$\t=\tporosity <br/>\r\n",
    "${V_V}$\t=\tvoid volume <br/>\r\n",
    "${V_T}$\t=\ttotal volume\r\n"
   ],
   "metadata": {}
  },
  {
   "cell_type": "code",
   "execution_count": 5,
   "source": [
    "\r\n",
    "\r\n",
    "def porosity(vol_void: float, vol_total: float) -> float:\r\n",
    "    \"\"\"Calculates porosity given void volume and total volume, used as a fraction (between 0 and 1)\r\n",
    "\r\n",
    "    Args:\r\n",
    "        vol_void (float): Void volume (same units as vol_total)\r\n",
    "        vol_total (float): Total rock volume (same units as vol_void)\r\n",
    "\r\n",
    "    Returns:\r\n",
    "        float: porosity (adimensional fraction)\r\n",
    "    \"\"\"\r\n",
    "    # calcular porosidad\r\n",
    "    porosity = vol_void / vol_total \r\n",
    "    # redondear la respuesta a dos decimales\r\n",
    "    porosity = round(porosity, 2)\r\n",
    "    \r\n",
    "    return porosity"
   ],
   "outputs": [],
   "metadata": {}
  },
  {
   "cell_type": "markdown",
   "source": [
    "#### Llamar una función"
   ],
   "metadata": {}
  },
  {
   "cell_type": "code",
   "execution_count": 6,
   "source": [
    "n = porosidad(22, 170)\r\n",
    "print(n)"
   ],
   "outputs": [
    {
     "output_type": "stream",
     "name": "stdout",
     "text": [
      "0.13\n"
     ]
    }
   ],
   "metadata": {}
  },
  {
   "cell_type": "markdown",
   "source": [
    "#### parámetros opcionales de una función\r\n",
    "\r\n",
    "Si se desea que el resultado se pueda dar tanto en decimas (e.g. 0.12) como en porcentaje (12%) podemos añadir un parámetro opcional a la función. "
   ],
   "metadata": {}
  },
  {
   "cell_type": "code",
   "execution_count": 16,
   "source": [
    "# pasamos el parámetro \"percent: False\" un booleano (True/False) que por defecto será False, esto es, dame la respuesta en fracción\r\n",
    "\r\n",
    "def porosity(vol_void: float, vol_total: float, percent: False) -> float:\r\n",
    "    \"\"\"Calculates porosity given void volume and total volume, used as a fraction (between 0 and 1)\r\n",
    "\r\n",
    "    Args:\r\n",
    "        vol_void (float): Void volume (same units as vol_total)\r\n",
    "        vol_total (float): Total rock volume (same units as vol_void)\r\n",
    "\r\n",
    "    Returns:\r\n",
    "        float: porosity (adimensional fraction)\r\n",
    "    \"\"\"\r\n",
    "    # calcular porosidad\r\n",
    "    porosity = vol_void / vol_total \r\n",
    "    # redondear la respuesta a dos decimales\r\n",
    "    porosity = round(porosity, 2)\r\n",
    "\r\n",
    "    if percent == True:\r\n",
    "        porosity = porosity*100\r\n",
    "        return porosity # retorna porosity como un valor de 0 a 100\r\n",
    "    \r\n",
    "    return porosity"
   ],
   "outputs": [],
   "metadata": {}
  },
  {
   "cell_type": "code",
   "execution_count": null,
   "source": [
    "# llamando la nueva función\r\n",
    "\r\n",
    "n = porosity(12, 170, percentage=True)\r\n",
    "print(n)\r\n"
   ],
   "outputs": [],
   "metadata": {}
  }
 ],
 "metadata": {
  "orig_nbformat": 4,
  "language_info": {
   "name": "python"
  }
 },
 "nbformat": 4,
 "nbformat_minor": 2
}