{
 "cells": [
  {
   "cell_type": "markdown",
   "source": [
    "### Functions in python\r\n",
    "\r\n",
    "\r\n",
    "A function is a block of code, which we can reuse as many time as we want, we can print, add, and even call another function inside a function. They are extremely useful for:\r\n",
    "\r\n",
    "- Not repeating code (repeat n times a functionality)\r\n",
    "- Making code clearer (each block does a specific thing)\r\n",
    "- Making code modular (divide code into blocks, useful for testing)\r\n",
    "- Making code reusable (pack as a module and import a function in an entirely different program)\r\n",
    "\r\n",
    "\r\n",
    " "
   ],
   "metadata": {}
  },
  {
   "cell_type": "markdown",
   "source": [
    "#### Basic structure of a function in python"
   ],
   "metadata": {}
  },
  {
   "cell_type": "code",
   "execution_count": 32,
   "source": [
    "def say_seg(): # define say_seg function\r\n",
    "    print(\"seg\") # this functions prints \"seg\" in the console "
   ],
   "outputs": [],
   "metadata": {}
  },
  {
   "cell_type": "markdown",
   "source": [
    "#### Call a function once or more times\r\n"
   ],
   "metadata": {}
  },
  {
   "cell_type": "code",
   "execution_count": 33,
   "source": [
    "say_seg() # llamar la función una vez"
   ],
   "outputs": [
    {
     "output_type": "stream",
     "name": "stdout",
     "text": [
      "seg\n"
     ]
    }
   ],
   "metadata": {}
  },
  {
   "cell_type": "code",
   "execution_count": 34,
   "source": [
    "for i in range(5): # llamar la función 5 veces\r\n",
    "    say_seg()\r\n"
   ],
   "outputs": [
    {
     "output_type": "stream",
     "name": "stdout",
     "text": [
      "seg\n",
      "seg\n",
      "seg\n",
      "seg\n",
      "seg\n"
     ]
    }
   ],
   "metadata": {}
  },
  {
   "cell_type": "markdown",
   "source": [
    "#### Using parameters inside a function"
   ],
   "metadata": {}
  },
  {
   "cell_type": "code",
   "execution_count": 35,
   "source": [
    "def say_seg_n_times(n): # say seg n times\r\n",
    "    for i in range(n):\r\n",
    "        say_seg() # let's call say_seg function inside this function (reusing it!)"
   ],
   "outputs": [],
   "metadata": {}
  },
  {
   "cell_type": "code",
   "execution_count": 36,
   "source": [
    "say_seg_n_times(3) # decir seg 3 veces "
   ],
   "outputs": [
    {
     "output_type": "stream",
     "name": "stdout",
     "text": [
      "seg\n",
      "seg\n",
      "seg\n"
     ]
    }
   ],
   "metadata": {}
  },
  {
   "cell_type": "markdown",
   "source": [
    "#### Use of a function to calculate porosity\r\n",
    "\r\n",
    "Let's do a function that calculates porosity given volume of voids and total volume, given by this equation\r\n",
    "\r\n",
    "\r\n",
    "$$\\phi=\\frac{{V_V}}{{V_T}}$$\r\n",
    "$\\phi$\t=\tporosity <br/>\r\n",
    "${V_V}$\t=\tvoid volume <br/>\r\n",
    "${V_T}$\t=\ttotal volume\r\n"
   ],
   "metadata": {}
  },
  {
   "cell_type": "code",
   "execution_count": 38,
   "source": [
    "\r\n",
    "\r\n",
    "def porosity(vol_void: float, vol_total: float) -> float:\r\n",
    "    \"\"\"Calculates porosity given void volume and total volume, used as a fraction (between 0 and 1)\r\n",
    "\r\n",
    "    Args:\r\n",
    "        vol_void (float): Void volume (same units as vol_total)\r\n",
    "        vol_total (float): Total rock volume (same units as vol_void)\r\n",
    "\r\n",
    "    Returns:\r\n",
    "        float: porosity (adimensional fraction)\r\n",
    "    \"\"\"\r\n",
    "    # calculate porosity\r\n",
    "    porosity = vol_void / vol_total \r\n",
    "    # round answer to 2 decimals\r\n",
    "    porosity = round(porosity, 2)\r\n",
    "    \r\n",
    "    return porosity"
   ],
   "outputs": [],
   "metadata": {}
  },
  {
   "cell_type": "markdown",
   "source": [
    "#### Llamar una función"
   ],
   "metadata": {}
  },
  {
   "cell_type": "code",
   "execution_count": 39,
   "source": [
    "n = porosity(22, 170)\r\n",
    "print(n)"
   ],
   "outputs": [
    {
     "output_type": "stream",
     "name": "stdout",
     "text": [
      "0.13\n"
     ]
    }
   ],
   "metadata": {}
  },
  {
   "cell_type": "markdown",
   "source": [
    "#### Optional parameters in a function\r\n",
    "\r\n",
    "What if we wish the result to be represented, not as a fraction(e.g. 0.12) but as a percentage (12%) we can add a parameter called \"percentage\" to do this. "
   ],
   "metadata": {}
  },
  {
   "cell_type": "code",
   "execution_count": 41,
   "source": [
    "# Let's add \"percentage: False\" a boolean (True/False) which will be False by default, this is:\r\n",
    "\r\n",
    "# False ->  gives result as a fraction\r\n",
    "# True -> gives result as a percentage\r\n",
    "\r\n",
    "def porosity(vol_void: float, vol_total: float, percentage: False) -> float:\r\n",
    "    \"\"\"Calculates porosity given void volume and total volume, used as a fraction (between 0 and 1)\r\n",
    "\r\n",
    "    Args:\r\n",
    "        vol_void (float): Void volume (same units as vol_total)\r\n",
    "        vol_total (float): Total rock volume (same units as vol_void)\r\n",
    "        percentage (bool): Boolean to check return as percentage os as fraction\r\n",
    "\r\n",
    "    Returns:\r\n",
    "        float: porosity (adimensional fraction)\r\n",
    "    \"\"\"\r\n",
    "    # calculate porosity\r\n",
    "    porosity = vol_void / vol_total \r\n",
    "    # round answer to 2 decimals\r\n",
    "    porosity = round(porosity, 2)\r\n",
    "    \r\n",
    "    if percentage == True:\r\n",
    "        porosity = porosity*100\r\n",
    "        porosity = round(porosity, 2) # round\r\n",
    "        return porosity # returns porosity as a value between 0 and 1\r\n",
    "    \r\n",
    "    return porosity"
   ],
   "outputs": [],
   "metadata": {}
  },
  {
   "cell_type": "code",
   "execution_count": 42,
   "source": [
    "# calling the modified function\r\n",
    "\r\n",
    "n = porosity(12, 170, percentage=True)\r\n",
    "print(n,\"%\")\r\n"
   ],
   "outputs": [
    {
     "output_type": "stream",
     "name": "stdout",
     "text": [
      "7.0 %\n"
     ]
    }
   ],
   "metadata": {}
  },
  {
   "cell_type": "markdown",
   "source": [
    "#### Example with a more complex equation"
   ],
   "metadata": {}
  },
  {
   "cell_type": "code",
   "execution_count": null,
   "source": [],
   "outputs": [],
   "metadata": {}
  }
 ],
 "metadata": {
  "orig_nbformat": 4,
  "language_info": {
   "name": "python"
  }
 },
 "nbformat": 4,
 "nbformat_minor": 2
}